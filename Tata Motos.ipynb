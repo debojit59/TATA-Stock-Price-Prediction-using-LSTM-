{
 "cells": [
  {
   "cell_type": "code",
   "execution_count": 1,
   "id": "9c0e8e54",
   "metadata": {},
   "outputs": [],
   "source": [
    "import yfinance as yf\n",
    "from IPython import display\n",
    "import numpy as np\n",
    "import matplotlib.pyplot as plt\n",
    "import pandas as pd"
   ]
  },
  {
   "cell_type": "code",
   "execution_count": 55,
   "id": "bd713e1e",
   "metadata": {},
   "outputs": [
    {
     "name": "stdout",
     "output_type": "stream",
     "text": [
      "[*********************100%%**********************]  1 of 1 completed\n"
     ]
    }
   ],
   "source": [
    "start_date='2010-01-01'\n",
    "end_date='2022-12-31'\n",
    "symbol='TATAMOTORS.BO'\n",
    "df=yf.download(symbol,start=start_date,end=end_date)"
   ]
  },
  {
   "cell_type": "code",
   "execution_count": 56,
   "id": "72b82d94",
   "metadata": {},
   "outputs": [],
   "source": [
    "csv_file_path = 'TataMotorsStock.csv'"
   ]
  },
  {
   "cell_type": "code",
   "execution_count": 57,
   "id": "a6cd7aeb",
   "metadata": {},
   "outputs": [],
   "source": [
    "df.to_csv(csv_file_path)"
   ]
  },
  {
   "cell_type": "code",
   "execution_count": 58,
   "id": "bf91a946",
   "metadata": {},
   "outputs": [
    {
     "name": "stdout",
     "output_type": "stream",
     "text": [
      "Data has been saved to: TataMotorsStock.csv\n"
     ]
    }
   ],
   "source": [
    "print(f'Data has been saved to: {csv_file_path}')"
   ]
  },
  {
   "cell_type": "code",
   "execution_count": 59,
   "id": "c11959ff",
   "metadata": {},
   "outputs": [
    {
     "name": "stdout",
     "output_type": "stream",
     "text": [
      "Download your file here: file://TataMotorsStock.csv\n"
     ]
    }
   ],
   "source": [
    "print(f'Download your file here: file://{csv_file_path}')"
   ]
  },
  {
   "cell_type": "code",
   "execution_count": 60,
   "id": "3de55908",
   "metadata": {},
   "outputs": [
    {
     "data": {
      "text/html": [
       "<div>\n",
       "<style scoped>\n",
       "    .dataframe tbody tr th:only-of-type {\n",
       "        vertical-align: middle;\n",
       "    }\n",
       "\n",
       "    .dataframe tbody tr th {\n",
       "        vertical-align: top;\n",
       "    }\n",
       "\n",
       "    .dataframe thead th {\n",
       "        text-align: right;\n",
       "    }\n",
       "</style>\n",
       "<table border=\"1\" class=\"dataframe\">\n",
       "  <thead>\n",
       "    <tr style=\"text-align: right;\">\n",
       "      <th></th>\n",
       "      <th>Open</th>\n",
       "      <th>High</th>\n",
       "      <th>Low</th>\n",
       "      <th>Close</th>\n",
       "      <th>Adj Close</th>\n",
       "      <th>Volume</th>\n",
       "    </tr>\n",
       "    <tr>\n",
       "      <th>Date</th>\n",
       "      <th></th>\n",
       "      <th></th>\n",
       "      <th></th>\n",
       "      <th></th>\n",
       "      <th></th>\n",
       "      <th></th>\n",
       "    </tr>\n",
       "  </thead>\n",
       "  <tbody>\n",
       "    <tr>\n",
       "      <th>2010-01-04</th>\n",
       "      <td>158.199997</td>\n",
       "      <td>166.050003</td>\n",
       "      <td>157.600006</td>\n",
       "      <td>165.479996</td>\n",
       "      <td>133.056763</td>\n",
       "      <td>6644850</td>\n",
       "    </tr>\n",
       "    <tr>\n",
       "      <th>2010-01-05</th>\n",
       "      <td>167.000000</td>\n",
       "      <td>168.399994</td>\n",
       "      <td>161.619995</td>\n",
       "      <td>162.190002</td>\n",
       "      <td>130.411407</td>\n",
       "      <td>5803015</td>\n",
       "    </tr>\n",
       "    <tr>\n",
       "      <th>2010-01-06</th>\n",
       "      <td>163.979996</td>\n",
       "      <td>164.600006</td>\n",
       "      <td>161.009995</td>\n",
       "      <td>162.419998</td>\n",
       "      <td>130.596344</td>\n",
       "      <td>3497165</td>\n",
       "    </tr>\n",
       "    <tr>\n",
       "      <th>2010-01-07</th>\n",
       "      <td>162.970001</td>\n",
       "      <td>163.800003</td>\n",
       "      <td>156.039993</td>\n",
       "      <td>156.949997</td>\n",
       "      <td>126.198082</td>\n",
       "      <td>5165270</td>\n",
       "    </tr>\n",
       "    <tr>\n",
       "      <th>2010-01-08</th>\n",
       "      <td>157.399994</td>\n",
       "      <td>160.979996</td>\n",
       "      <td>156.819992</td>\n",
       "      <td>157.830002</td>\n",
       "      <td>126.905678</td>\n",
       "      <td>3661545</td>\n",
       "    </tr>\n",
       "    <tr>\n",
       "      <th>...</th>\n",
       "      <td>...</td>\n",
       "      <td>...</td>\n",
       "      <td>...</td>\n",
       "      <td>...</td>\n",
       "      <td>...</td>\n",
       "      <td>...</td>\n",
       "    </tr>\n",
       "    <tr>\n",
       "      <th>2022-12-26</th>\n",
       "      <td>378.299988</td>\n",
       "      <td>390.600006</td>\n",
       "      <td>375.500000</td>\n",
       "      <td>384.850006</td>\n",
       "      <td>384.850006</td>\n",
       "      <td>781059</td>\n",
       "    </tr>\n",
       "    <tr>\n",
       "      <th>2022-12-27</th>\n",
       "      <td>392.000000</td>\n",
       "      <td>397.200012</td>\n",
       "      <td>388.250000</td>\n",
       "      <td>394.149994</td>\n",
       "      <td>394.149994</td>\n",
       "      <td>1102815</td>\n",
       "    </tr>\n",
       "    <tr>\n",
       "      <th>2022-12-28</th>\n",
       "      <td>394.149994</td>\n",
       "      <td>395.950012</td>\n",
       "      <td>390.600006</td>\n",
       "      <td>391.399994</td>\n",
       "      <td>391.399994</td>\n",
       "      <td>647942</td>\n",
       "    </tr>\n",
       "    <tr>\n",
       "      <th>2022-12-29</th>\n",
       "      <td>389.500000</td>\n",
       "      <td>390.149994</td>\n",
       "      <td>383.000000</td>\n",
       "      <td>385.899994</td>\n",
       "      <td>385.899994</td>\n",
       "      <td>1006593</td>\n",
       "    </tr>\n",
       "    <tr>\n",
       "      <th>2022-12-30</th>\n",
       "      <td>391.000000</td>\n",
       "      <td>392.100006</td>\n",
       "      <td>387.049988</td>\n",
       "      <td>388.100006</td>\n",
       "      <td>388.100006</td>\n",
       "      <td>717322</td>\n",
       "    </tr>\n",
       "  </tbody>\n",
       "</table>\n",
       "<p>3203 rows × 6 columns</p>\n",
       "</div>"
      ],
      "text/plain": [
       "                  Open        High         Low       Close   Adj Close  \\\n",
       "Date                                                                     \n",
       "2010-01-04  158.199997  166.050003  157.600006  165.479996  133.056763   \n",
       "2010-01-05  167.000000  168.399994  161.619995  162.190002  130.411407   \n",
       "2010-01-06  163.979996  164.600006  161.009995  162.419998  130.596344   \n",
       "2010-01-07  162.970001  163.800003  156.039993  156.949997  126.198082   \n",
       "2010-01-08  157.399994  160.979996  156.819992  157.830002  126.905678   \n",
       "...                ...         ...         ...         ...         ...   \n",
       "2022-12-26  378.299988  390.600006  375.500000  384.850006  384.850006   \n",
       "2022-12-27  392.000000  397.200012  388.250000  394.149994  394.149994   \n",
       "2022-12-28  394.149994  395.950012  390.600006  391.399994  391.399994   \n",
       "2022-12-29  389.500000  390.149994  383.000000  385.899994  385.899994   \n",
       "2022-12-30  391.000000  392.100006  387.049988  388.100006  388.100006   \n",
       "\n",
       "             Volume  \n",
       "Date                 \n",
       "2010-01-04  6644850  \n",
       "2010-01-05  5803015  \n",
       "2010-01-06  3497165  \n",
       "2010-01-07  5165270  \n",
       "2010-01-08  3661545  \n",
       "...             ...  \n",
       "2022-12-26   781059  \n",
       "2022-12-27  1102815  \n",
       "2022-12-28   647942  \n",
       "2022-12-29  1006593  \n",
       "2022-12-30   717322  \n",
       "\n",
       "[3203 rows x 6 columns]"
      ]
     },
     "execution_count": 60,
     "metadata": {},
     "output_type": "execute_result"
    }
   ],
   "source": [
    "df"
   ]
  },
  {
   "cell_type": "code",
   "execution_count": 61,
   "id": "2dc10a90",
   "metadata": {},
   "outputs": [
    {
     "data": {
      "text/html": [
       "<div>\n",
       "<style scoped>\n",
       "    .dataframe tbody tr th:only-of-type {\n",
       "        vertical-align: middle;\n",
       "    }\n",
       "\n",
       "    .dataframe tbody tr th {\n",
       "        vertical-align: top;\n",
       "    }\n",
       "\n",
       "    .dataframe thead th {\n",
       "        text-align: right;\n",
       "    }\n",
       "</style>\n",
       "<table border=\"1\" class=\"dataframe\">\n",
       "  <thead>\n",
       "    <tr style=\"text-align: right;\">\n",
       "      <th></th>\n",
       "      <th>Open</th>\n",
       "      <th>High</th>\n",
       "      <th>Low</th>\n",
       "      <th>Close</th>\n",
       "      <th>Adj Close</th>\n",
       "      <th>Volume</th>\n",
       "    </tr>\n",
       "    <tr>\n",
       "      <th>Date</th>\n",
       "      <th></th>\n",
       "      <th></th>\n",
       "      <th></th>\n",
       "      <th></th>\n",
       "      <th></th>\n",
       "      <th></th>\n",
       "    </tr>\n",
       "  </thead>\n",
       "  <tbody>\n",
       "    <tr>\n",
       "      <th>2010-01-04</th>\n",
       "      <td>158.199997</td>\n",
       "      <td>166.050003</td>\n",
       "      <td>157.600006</td>\n",
       "      <td>165.479996</td>\n",
       "      <td>133.056763</td>\n",
       "      <td>6644850</td>\n",
       "    </tr>\n",
       "    <tr>\n",
       "      <th>2010-01-05</th>\n",
       "      <td>167.000000</td>\n",
       "      <td>168.399994</td>\n",
       "      <td>161.619995</td>\n",
       "      <td>162.190002</td>\n",
       "      <td>130.411407</td>\n",
       "      <td>5803015</td>\n",
       "    </tr>\n",
       "    <tr>\n",
       "      <th>2010-01-06</th>\n",
       "      <td>163.979996</td>\n",
       "      <td>164.600006</td>\n",
       "      <td>161.009995</td>\n",
       "      <td>162.419998</td>\n",
       "      <td>130.596344</td>\n",
       "      <td>3497165</td>\n",
       "    </tr>\n",
       "    <tr>\n",
       "      <th>2010-01-07</th>\n",
       "      <td>162.970001</td>\n",
       "      <td>163.800003</td>\n",
       "      <td>156.039993</td>\n",
       "      <td>156.949997</td>\n",
       "      <td>126.198082</td>\n",
       "      <td>5165270</td>\n",
       "    </tr>\n",
       "    <tr>\n",
       "      <th>2010-01-08</th>\n",
       "      <td>157.399994</td>\n",
       "      <td>160.979996</td>\n",
       "      <td>156.819992</td>\n",
       "      <td>157.830002</td>\n",
       "      <td>126.905678</td>\n",
       "      <td>3661545</td>\n",
       "    </tr>\n",
       "  </tbody>\n",
       "</table>\n",
       "</div>"
      ],
      "text/plain": [
       "                  Open        High         Low       Close   Adj Close  \\\n",
       "Date                                                                     \n",
       "2010-01-04  158.199997  166.050003  157.600006  165.479996  133.056763   \n",
       "2010-01-05  167.000000  168.399994  161.619995  162.190002  130.411407   \n",
       "2010-01-06  163.979996  164.600006  161.009995  162.419998  130.596344   \n",
       "2010-01-07  162.970001  163.800003  156.039993  156.949997  126.198082   \n",
       "2010-01-08  157.399994  160.979996  156.819992  157.830002  126.905678   \n",
       "\n",
       "             Volume  \n",
       "Date                 \n",
       "2010-01-04  6644850  \n",
       "2010-01-05  5803015  \n",
       "2010-01-06  3497165  \n",
       "2010-01-07  5165270  \n",
       "2010-01-08  3661545  "
      ]
     },
     "execution_count": 61,
     "metadata": {},
     "output_type": "execute_result"
    }
   ],
   "source": [
    "df.head()"
   ]
  },
  {
   "cell_type": "code",
   "execution_count": 62,
   "id": "ada19e15",
   "metadata": {},
   "outputs": [
    {
     "name": "stdout",
     "output_type": "stream",
     "text": [
      "<class 'pandas.core.frame.DataFrame'>\n",
      "DatetimeIndex: 3203 entries, 2010-01-04 to 2022-12-30\n",
      "Data columns (total 6 columns):\n",
      " #   Column     Non-Null Count  Dtype  \n",
      "---  ------     --------------  -----  \n",
      " 0   Open       3203 non-null   float64\n",
      " 1   High       3203 non-null   float64\n",
      " 2   Low        3203 non-null   float64\n",
      " 3   Close      3203 non-null   float64\n",
      " 4   Adj Close  3203 non-null   float64\n",
      " 5   Volume     3203 non-null   int64  \n",
      "dtypes: float64(5), int64(1)\n",
      "memory usage: 175.2 KB\n"
     ]
    }
   ],
   "source": [
    "df.info()"
   ]
  },
  {
   "cell_type": "code",
   "execution_count": 63,
   "id": "8be41128",
   "metadata": {},
   "outputs": [
    {
     "name": "stdout",
     "output_type": "stream",
     "text": [
      "<class 'pandas.core.frame.DataFrame'>\n",
      "DatetimeIndex: 3203 entries, 2010-01-04 to 2022-12-30\n",
      "Data columns (total 6 columns):\n",
      " #   Column     Non-Null Count  Dtype  \n",
      "---  ------     --------------  -----  \n",
      " 0   Open       3203 non-null   float64\n",
      " 1   High       3203 non-null   float64\n",
      " 2   Low        3203 non-null   float64\n",
      " 3   Close      3203 non-null   float64\n",
      " 4   Adj Close  3203 non-null   float64\n",
      " 5   Volume     3203 non-null   int64  \n",
      "dtypes: float64(5), int64(1)\n",
      "memory usage: 175.2 KB\n"
     ]
    }
   ],
   "source": [
    "df.info()"
   ]
  },
  {
   "cell_type": "code",
   "execution_count": 64,
   "id": "e3f3a659",
   "metadata": {},
   "outputs": [
    {
     "data": {
      "text/plain": [
       "<AxesSubplot:xlabel='Date'>"
      ]
     },
     "execution_count": 64,
     "metadata": {},
     "output_type": "execute_result"
    },
    {
     "data": {
      "image/png": "[encoded data removed]",
      "text/plain": [
       "<Figure size 936x432 with 1 Axes>"
      ]
     },
     "metadata": {
      "needs_background": "light"
     },
     "output_type": "display_data"
    }
   ],
   "source": [
    "df['Open'].plot(figsize=(13,6))"
   ]
  },
  {
   "cell_type": "code",
   "execution_count": 65,
   "id": "c5dfd4f7",
   "metadata": {},
   "outputs": [
    {
     "data": {
      "text/html": [
       "<div>\n",
       "<style scoped>\n",
       "    .dataframe tbody tr th:only-of-type {\n",
       "        vertical-align: middle;\n",
       "    }\n",
       "\n",
       "    .dataframe tbody tr th {\n",
       "        vertical-align: top;\n",
       "    }\n",
       "\n",
       "    .dataframe thead th {\n",
       "        text-align: right;\n",
       "    }\n",
       "</style>\n",
       "<table border=\"1\" class=\"dataframe\">\n",
       "  <thead>\n",
       "    <tr style=\"text-align: right;\">\n",
       "      <th></th>\n",
       "      <th>Open</th>\n",
       "      <th>High</th>\n",
       "      <th>Low</th>\n",
       "      <th>Close</th>\n",
       "      <th>Adj Close</th>\n",
       "      <th>Volume</th>\n",
       "    </tr>\n",
       "    <tr>\n",
       "      <th>Date</th>\n",
       "      <th></th>\n",
       "      <th></th>\n",
       "      <th></th>\n",
       "      <th></th>\n",
       "      <th></th>\n",
       "      <th></th>\n",
       "    </tr>\n",
       "  </thead>\n",
       "  <tbody>\n",
       "    <tr>\n",
       "      <th>2010-01-04</th>\n",
       "      <td>NaN</td>\n",
       "      <td>NaN</td>\n",
       "      <td>NaN</td>\n",
       "      <td>NaN</td>\n",
       "      <td>NaN</td>\n",
       "      <td>NaN</td>\n",
       "    </tr>\n",
       "    <tr>\n",
       "      <th>2010-01-05</th>\n",
       "      <td>NaN</td>\n",
       "      <td>NaN</td>\n",
       "      <td>NaN</td>\n",
       "      <td>NaN</td>\n",
       "      <td>NaN</td>\n",
       "      <td>NaN</td>\n",
       "    </tr>\n",
       "    <tr>\n",
       "      <th>2010-01-06</th>\n",
       "      <td>NaN</td>\n",
       "      <td>NaN</td>\n",
       "      <td>NaN</td>\n",
       "      <td>NaN</td>\n",
       "      <td>NaN</td>\n",
       "      <td>NaN</td>\n",
       "    </tr>\n",
       "    <tr>\n",
       "      <th>2010-01-07</th>\n",
       "      <td>NaN</td>\n",
       "      <td>NaN</td>\n",
       "      <td>NaN</td>\n",
       "      <td>NaN</td>\n",
       "      <td>NaN</td>\n",
       "      <td>NaN</td>\n",
       "    </tr>\n",
       "    <tr>\n",
       "      <th>2010-01-08</th>\n",
       "      <td>NaN</td>\n",
       "      <td>NaN</td>\n",
       "      <td>NaN</td>\n",
       "      <td>NaN</td>\n",
       "      <td>NaN</td>\n",
       "      <td>NaN</td>\n",
       "    </tr>\n",
       "    <tr>\n",
       "      <th>2010-01-11</th>\n",
       "      <td>NaN</td>\n",
       "      <td>NaN</td>\n",
       "      <td>NaN</td>\n",
       "      <td>NaN</td>\n",
       "      <td>NaN</td>\n",
       "      <td>NaN</td>\n",
       "    </tr>\n",
       "    <tr>\n",
       "      <th>2010-01-12</th>\n",
       "      <td>161.021428</td>\n",
       "      <td>163.262857</td>\n",
       "      <td>157.987139</td>\n",
       "      <td>159.937143</td>\n",
       "      <td>128.599957</td>\n",
       "      <td>4.193461e+06</td>\n",
       "    </tr>\n",
       "    <tr>\n",
       "      <th>2010-01-13</th>\n",
       "      <td>160.704285</td>\n",
       "      <td>162.205712</td>\n",
       "      <td>157.187138</td>\n",
       "      <td>158.727142</td>\n",
       "      <td>127.627038</td>\n",
       "      <td>3.788390e+06</td>\n",
       "    </tr>\n",
       "    <tr>\n",
       "      <th>2010-01-14</th>\n",
       "      <td>159.458570</td>\n",
       "      <td>160.858571</td>\n",
       "      <td>156.387139</td>\n",
       "      <td>157.911427</td>\n",
       "      <td>126.971150</td>\n",
       "      <td>3.232698e+06</td>\n",
       "    </tr>\n",
       "    <tr>\n",
       "      <th>2010-01-15</th>\n",
       "      <td>158.547143</td>\n",
       "      <td>160.282854</td>\n",
       "      <td>155.537140</td>\n",
       "      <td>157.471427</td>\n",
       "      <td>126.617362</td>\n",
       "      <td>3.302002e+06</td>\n",
       "    </tr>\n",
       "    <tr>\n",
       "      <th>2010-01-18</th>\n",
       "      <td>157.951429</td>\n",
       "      <td>160.108568</td>\n",
       "      <td>155.684283</td>\n",
       "      <td>158.144285</td>\n",
       "      <td>127.158387</td>\n",
       "      <td>3.127512e+06</td>\n",
       "    </tr>\n",
       "    <tr>\n",
       "      <th>2010-01-19</th>\n",
       "      <td>158.681429</td>\n",
       "      <td>160.482856</td>\n",
       "      <td>156.167140</td>\n",
       "      <td>158.549999</td>\n",
       "      <td>127.484610</td>\n",
       "      <td>2.879104e+06</td>\n",
       "    </tr>\n",
       "    <tr>\n",
       "      <th>2010-01-20</th>\n",
       "      <td>159.081430</td>\n",
       "      <td>160.882856</td>\n",
       "      <td>156.627141</td>\n",
       "      <td>158.974285</td>\n",
       "      <td>127.825763</td>\n",
       "      <td>2.852280e+06</td>\n",
       "    </tr>\n",
       "    <tr>\n",
       "      <th>2010-01-21</th>\n",
       "      <td>159.367144</td>\n",
       "      <td>161.078572</td>\n",
       "      <td>156.539998</td>\n",
       "      <td>158.858568</td>\n",
       "      <td>127.732717</td>\n",
       "      <td>2.730628e+06</td>\n",
       "    </tr>\n",
       "    <tr>\n",
       "      <th>2010-01-22</th>\n",
       "      <td>159.112858</td>\n",
       "      <td>160.881430</td>\n",
       "      <td>156.397141</td>\n",
       "      <td>158.672854</td>\n",
       "      <td>127.583394</td>\n",
       "      <td>2.494336e+06</td>\n",
       "    </tr>\n",
       "    <tr>\n",
       "      <th>2010-01-25</th>\n",
       "      <td>158.558572</td>\n",
       "      <td>160.542860</td>\n",
       "      <td>155.794283</td>\n",
       "      <td>158.267140</td>\n",
       "      <td>127.257173</td>\n",
       "      <td>2.490494e+06</td>\n",
       "    </tr>\n",
       "    <tr>\n",
       "      <th>2010-01-27</th>\n",
       "      <td>157.741429</td>\n",
       "      <td>159.518574</td>\n",
       "      <td>153.928569</td>\n",
       "      <td>155.961426</td>\n",
       "      <td>125.403227</td>\n",
       "      <td>2.482501e+06</td>\n",
       "    </tr>\n",
       "    <tr>\n",
       "      <th>2010-01-28</th>\n",
       "      <td>155.770000</td>\n",
       "      <td>157.290002</td>\n",
       "      <td>151.665713</td>\n",
       "      <td>153.302854</td>\n",
       "      <td>123.265559</td>\n",
       "      <td>2.327506e+06</td>\n",
       "    </tr>\n",
       "    <tr>\n",
       "      <th>2010-01-29</th>\n",
       "      <td>152.840001</td>\n",
       "      <td>154.490001</td>\n",
       "      <td>147.994284</td>\n",
       "      <td>150.188568</td>\n",
       "      <td>120.761466</td>\n",
       "      <td>2.725194e+06</td>\n",
       "    </tr>\n",
       "    <tr>\n",
       "      <th>2010-02-01</th>\n",
       "      <td>149.594286</td>\n",
       "      <td>151.918573</td>\n",
       "      <td>144.557142</td>\n",
       "      <td>147.784282</td>\n",
       "      <td>118.828261</td>\n",
       "      <td>3.373565e+06</td>\n",
       "    </tr>\n",
       "  </tbody>\n",
       "</table>\n",
       "</div>"
      ],
      "text/plain": [
       "                  Open        High         Low       Close   Adj Close  \\\n",
       "Date                                                                     \n",
       "2010-01-04         NaN         NaN         NaN         NaN         NaN   \n",
       "2010-01-05         NaN         NaN         NaN         NaN         NaN   \n",
       "2010-01-06         NaN         NaN         NaN         NaN         NaN   \n",
       "2010-01-07         NaN         NaN         NaN         NaN         NaN   \n",
       "2010-01-08         NaN         NaN         NaN         NaN         NaN   \n",
       "2010-01-11         NaN         NaN         NaN         NaN         NaN   \n",
       "2010-01-12  161.021428  163.262857  157.987139  159.937143  128.599957   \n",
       "2010-01-13  160.704285  162.205712  157.187138  158.727142  127.627038   \n",
       "2010-01-14  159.458570  160.858571  156.387139  157.911427  126.971150   \n",
       "2010-01-15  158.547143  160.282854  155.537140  157.471427  126.617362   \n",
       "2010-01-18  157.951429  160.108568  155.684283  158.144285  127.158387   \n",
       "2010-01-19  158.681429  160.482856  156.167140  158.549999  127.484610   \n",
       "2010-01-20  159.081430  160.882856  156.627141  158.974285  127.825763   \n",
       "2010-01-21  159.367144  161.078572  156.539998  158.858568  127.732717   \n",
       "2010-01-22  159.112858  160.881430  156.397141  158.672854  127.583394   \n",
       "2010-01-25  158.558572  160.542860  155.794283  158.267140  127.257173   \n",
       "2010-01-27  157.741429  159.518574  153.928569  155.961426  125.403227   \n",
       "2010-01-28  155.770000  157.290002  151.665713  153.302854  123.265559   \n",
       "2010-01-29  152.840001  154.490001  147.994284  150.188568  120.761466   \n",
       "2010-02-01  149.594286  151.918573  144.557142  147.784282  118.828261   \n",
       "\n",
       "                  Volume  \n",
       "Date                      \n",
       "2010-01-04           NaN  \n",
       "2010-01-05           NaN  \n",
       "2010-01-06           NaN  \n",
       "2010-01-07           NaN  \n",
       "2010-01-08           NaN  \n",
       "2010-01-11           NaN  \n",
       "2010-01-12  4.193461e+06  \n",
       "2010-01-13  3.788390e+06  \n",
       "2010-01-14  3.232698e+06  \n",
       "2010-01-15  3.302002e+06  \n",
       "2010-01-18  3.127512e+06  \n",
       "2010-01-19  2.879104e+06  \n",
       "2010-01-20  2.852280e+06  \n",
       "2010-01-21  2.730628e+06  \n",
       "2010-01-22  2.494336e+06  \n",
       "2010-01-25  2.490494e+06  \n",
       "2010-01-27  2.482501e+06  \n",
       "2010-01-28  2.327506e+06  \n",
       "2010-01-29  2.725194e+06  \n",
       "2010-02-01  3.373565e+06  "
      ]
     },
     "execution_count": 65,
     "metadata": {},
     "output_type": "execute_result"
    }
   ],
   "source": [
    "df.rolling(7).mean().head(20)"
   ]
  },
  {
   "cell_type": "code",
   "execution_count": 66,
   "id": "24a219ae",
   "metadata": {},
   "outputs": [
    {
     "data": {
      "text/plain": [
       "<AxesSubplot:xlabel='Date'>"
      ]
     },
     "execution_count": 66,
     "metadata": {},
     "output_type": "execute_result"
    },
    {
     "data": {
      "image/png": "[encoded data removed]",
      "text/plain": [
       "<Figure size 1152x432 with 1 Axes>"
      ]
     },
     "metadata": {
      "needs_background": "light"
     },
     "output_type": "display_data"
    }
   ],
   "source": [
    "df['Open'].plot(figsize=(16,6))\n",
    "df['Close'].rolling(30).mean().plot()"
   ]
  },
  {
   "cell_type": "code",
   "execution_count": 67,
   "id": "a4e53cb8",
   "metadata": {},
   "outputs": [
    {
     "data": {
      "text/plain": [
       "<AxesSubplot:xlabel='Date'>"
      ]
     },
     "execution_count": 67,
     "metadata": {},
     "output_type": "execute_result"
    },
    {
     "data": {
      "image/png": "[encoded data removed]",
      "text/plain": [
       "<Figure size 936x216 with 1 Axes>"
      ]
     },
     "metadata": {
      "needs_background": "light"
     },
     "output_type": "display_data"
    }
   ],
   "source": [
    "df['Close: 30 Day Mean']=df['Close'].rolling(30).mean()\n",
    "df[['Close','Close: 30 Day Mean']].plot(figsize=(13,3))\n"
   ]
  },
  {
   "cell_type": "code",
   "execution_count": 68,
   "id": "87a198bd",
   "metadata": {},
   "outputs": [
    {
     "data": {
      "text/plain": [
       "<AxesSubplot:xlabel='Date'>"
      ]
     },
     "execution_count": 68,
     "metadata": {},
     "output_type": "execute_result"
    },
    {
     "data": {
      "image/png": "[encoded data removed]",
      "text/plain": [
       "<Figure size 936x216 with 1 Axes>"
      ]
     },
     "metadata": {
      "needs_background": "light"
     },
     "output_type": "display_data"
    }
   ],
   "source": [
    "#optional specify a minimum number of periods\n",
    "df['Close'].expanding(min_periods=1).mean().plot(figsize=(13,3))"
   ]
  },
  {
   "cell_type": "code",
   "execution_count": 69,
   "id": "9c5a1c49",
   "metadata": {},
   "outputs": [],
   "source": [
    "##Data Preprocessing "
   ]
  },
  {
   "cell_type": "code",
   "execution_count": 70,
   "id": "af13cc94",
   "metadata": {},
   "outputs": [
    {
     "data": {
      "text/plain": [
       "Open                  False\n",
       "High                  False\n",
       "Low                   False\n",
       "Close                 False\n",
       "Adj Close             False\n",
       "Volume                False\n",
       "Close: 30 Day Mean     True\n",
       "dtype: bool"
      ]
     },
     "execution_count": 70,
     "metadata": {},
     "output_type": "execute_result"
    }
   ],
   "source": [
    "training_set=df['Open']\n",
    "training_set=pd.DataFrame(training_set)\n",
    "#Data Cleaning\n",
    "df.isna().any()"
   ]
  },
  {
   "cell_type": "code",
   "execution_count": 71,
   "id": "40b3fcf0",
   "metadata": {},
   "outputs": [],
   "source": [
    "#splitting data into training and testing \n",
    "df_training=pd.DataFrame(df['Close'][0:int(len(df)*0.70)])\n",
    "df_testing =pd.DataFrame(df['Close'][int(len(df)*0.70):int(len(df))])"
   ]
  },
  {
   "cell_type": "code",
   "execution_count": 72,
   "id": "a0086f0f",
   "metadata": {},
   "outputs": [],
   "source": [
    "#feature scaling\n",
    "from sklearn.preprocessing import MinMaxScaler\n",
    "sc=MinMaxScaler(feature_range=(0,1))"
   ]
  },
  {
   "cell_type": "code",
   "execution_count": 73,
   "id": "e79dbd49",
   "metadata": {},
   "outputs": [],
   "source": [
    "data_training_scaled=sc.fit_transform(df_training)\n",
    "data_tesing_scaled=sc.fit_transform(df_testing)"
   ]
  },
  {
   "cell_type": "code",
   "execution_count": 74,
   "id": "a0e5c706",
   "metadata": {},
   "outputs": [
    {
     "data": {
      "text/plain": [
       "array([[0.06733705],\n",
       "       [0.06035726],\n",
       "       [0.0608452 ],\n",
       "       ...,\n",
       "       [0.10079344],\n",
       "       [0.1018542 ],\n",
       "       [0.09877801]])"
      ]
     },
     "execution_count": 74,
     "metadata": {},
     "output_type": "execute_result"
    }
   ],
   "source": [
    "data_training_scaled"
   ]
  },
  {
   "cell_type": "code",
   "execution_count": 75,
   "id": "a937cae4",
   "metadata": {},
   "outputs": [
    {
     "data": {
      "text/plain": [
       "(2242, 1)"
      ]
     },
     "execution_count": 75,
     "metadata": {},
     "output_type": "execute_result"
    }
   ],
   "source": [
    "data_training_scaled.shape"
   ]
  },
  {
   "cell_type": "code",
   "execution_count": 76,
   "id": "468cc3c8",
   "metadata": {},
   "outputs": [],
   "source": [
    "#creating a data structure with 60 timesteps and 1 output\n",
    "\n",
    "x_train=[]\n",
    "y_train=[]\n",
    "for i in range(60,data_training_scaled.shape[0]):\n",
    "    x_train.append(data_training_scaled[i-60:i,0])\n",
    "    y_train.append(data_training_scaled[i,0])\n",
    "x_train,y_train=np.array(x_train),np.array(y_train)"
   ]
  },
  {
   "cell_type": "code",
   "execution_count": 77,
   "id": "28a14d7c",
   "metadata": {},
   "outputs": [],
   "source": [
    "#importing keras libraries and packages\n",
    "import tensorflow as tf\n",
    "from keras.layers import Dense,Dropout,LSTM\n",
    "from keras.models import Sequential"
   ]
  },
  {
   "cell_type": "code",
   "execution_count": 78,
   "id": "d523f6d2",
   "metadata": {},
   "outputs": [],
   "source": [
    "regressor=Sequential()"
   ]
  },
  {
   "cell_type": "code",
   "execution_count": 79,
   "id": "1588516e",
   "metadata": {},
   "outputs": [],
   "source": [
    "#adding first LSTM layer and some dropout regularisation\n",
    "regressor.add(LSTM(units=50,return_sequences=True,input_shape=(x_train.shape[1],1)))\n",
    "regressor.add(Dropout(0.2))\n",
    "#adding 2nd LSTM layer and some dropout regularisation\n",
    "regressor.add(LSTM(units=60,return_sequences=True))\n",
    "regressor.add(Dropout(0.3))\n",
    "#adding 3rd LSTM layer and some dropout regularisation\n",
    "regressor.add(LSTM(units=80,return_sequences=True))\n",
    "regressor.add(Dropout(0.4))\n",
    "#adding 4th LSTM layer and some dropout regularisation\n",
    "regressor.add(LSTM(units=80))\n",
    "regressor.add(Dropout(0.5))\n",
    "#adding output layer\n",
    "regressor.add(Dense(units=1))"
   ]
  },
  {
   "cell_type": "code",
   "execution_count": 80,
   "id": "2231a0dc",
   "metadata": {},
   "outputs": [
    {
     "name": "stdout",
     "output_type": "stream",
     "text": [
      "Epoch 1/52\n",
      "69/69 [==============================] - 10s 63ms/step - loss: 0.0226\n",
      "Epoch 2/52\n",
      "69/69 [==============================] - 4s 62ms/step - loss: 0.0077\n",
      "Epoch 3/52\n",
      "69/69 [==============================] - 4s 59ms/step - loss: 0.0075\n",
      "Epoch 4/52\n",
      "69/69 [==============================] - 4s 58ms/step - loss: 0.0074\n",
      "Epoch 5/52\n",
      "69/69 [==============================] - 4s 58ms/step - loss: 0.0063\n",
      "Epoch 6/52\n",
      "69/69 [==============================] - 4s 56ms/step - loss: 0.0056\n",
      "Epoch 7/52\n",
      "69/69 [==============================] - 4s 55ms/step - loss: 0.0055\n",
      "Epoch 8/52\n",
      "69/69 [==============================] - 4s 54ms/step - loss: 0.0054\n",
      "Epoch 9/52\n",
      "69/69 [==============================] - 4s 59ms/step - loss: 0.0052\n",
      "Epoch 10/52\n",
      "69/69 [==============================] - 4s 65ms/step - loss: 0.0047\n",
      "Epoch 11/52\n",
      "69/69 [==============================] - 4s 64ms/step - loss: 0.0043\n",
      "Epoch 12/52\n",
      "69/69 [==============================] - 4s 56ms/step - loss: 0.0047\n",
      "Epoch 13/52\n",
      "69/69 [==============================] - 4s 64ms/step - loss: 0.0048\n",
      "Epoch 14/52\n",
      "69/69 [==============================] - 4s 63ms/step - loss: 0.0040\n",
      "Epoch 15/52\n",
      "69/69 [==============================] - 4s 54ms/step - loss: 0.0041\n",
      "Epoch 16/52\n",
      "69/69 [==============================] - 4s 55ms/step - loss: 0.0039\n",
      "Epoch 17/52\n",
      "69/69 [==============================] - 4s 57ms/step - loss: 0.0039\n",
      "Epoch 18/52\n",
      "69/69 [==============================] - 4s 58ms/step - loss: 0.0035\n",
      "Epoch 19/52\n",
      "69/69 [==============================] - 4s 57ms/step - loss: 0.0038\n",
      "Epoch 20/52\n",
      "69/69 [==============================] - 4s 56ms/step - loss: 0.0033\n",
      "Epoch 21/52\n",
      "69/69 [==============================] - 4s 54ms/step - loss: 0.0029\n",
      "Epoch 22/52\n",
      "69/69 [==============================] - 4s 59ms/step - loss: 0.0032\n",
      "Epoch 23/52\n",
      "69/69 [==============================] - 4s 65ms/step - loss: 0.0030\n",
      "Epoch 24/52\n",
      "69/69 [==============================] - 4s 61ms/step - loss: 0.0032\n",
      "Epoch 25/52\n",
      "69/69 [==============================] - 4s 55ms/step - loss: 0.0032\n",
      "Epoch 26/52\n",
      "69/69 [==============================] - 4s 55ms/step - loss: 0.0028\n",
      "Epoch 27/52\n",
      "69/69 [==============================] - 4s 56ms/step - loss: 0.0028\n",
      "Epoch 28/52\n",
      "69/69 [==============================] - 6s 83ms/step - loss: 0.0027\n",
      "Epoch 29/52\n",
      "69/69 [==============================] - 11s 163ms/step - loss: 0.0025\n",
      "Epoch 30/52\n",
      "69/69 [==============================] - 11s 162ms/step - loss: 0.0025\n",
      "Epoch 31/52\n",
      "69/69 [==============================] - 11s 162ms/step - loss: 0.0024\n",
      "Epoch 32/52\n",
      "69/69 [==============================] - 11s 162ms/step - loss: 0.0026\n",
      "Epoch 33/52\n",
      "69/69 [==============================] - 11s 163ms/step - loss: 0.0027\n",
      "Epoch 34/52\n",
      "69/69 [==============================] - 11s 163ms/step - loss: 0.0023\n",
      "Epoch 35/52\n",
      "69/69 [==============================] - 11s 163ms/step - loss: 0.0024\n",
      "Epoch 36/52\n",
      "69/69 [==============================] - 11s 162ms/step - loss: 0.0023\n",
      "Epoch 37/52\n",
      "69/69 [==============================] - 11s 162ms/step - loss: 0.0023\n",
      "Epoch 38/52\n",
      "69/69 [==============================] - 11s 163ms/step - loss: 0.0022\n",
      "Epoch 39/52\n",
      "69/69 [==============================] - 11s 164ms/step - loss: 0.0024\n",
      "Epoch 40/52\n",
      "69/69 [==============================] - 11s 163ms/step - loss: 0.0022\n",
      "Epoch 41/52\n",
      "69/69 [==============================] - 11s 163ms/step - loss: 0.0022\n",
      "Epoch 42/52\n",
      "69/69 [==============================] - 11s 159ms/step - loss: 0.0020\n",
      "Epoch 43/52\n",
      "69/69 [==============================] - 11s 163ms/step - loss: 0.0021\n",
      "Epoch 44/52\n",
      "69/69 [==============================] - 11s 163ms/step - loss: 0.0021\n",
      "Epoch 45/52\n",
      "69/69 [==============================] - 11s 164ms/step - loss: 0.0021\n",
      "Epoch 46/52\n",
      "69/69 [==============================] - 11s 164ms/step - loss: 0.0021\n",
      "Epoch 47/52\n",
      "69/69 [==============================] - 11s 164ms/step - loss: 0.0020\n",
      "Epoch 48/52\n",
      "69/69 [==============================] - 11s 162ms/step - loss: 0.0020\n",
      "Epoch 49/52\n",
      "69/69 [==============================] - 10s 146ms/step - loss: 0.0019\n",
      "Epoch 50/52\n",
      "69/69 [==============================] - 11s 161ms/step - loss: 0.0021\n",
      "Epoch 51/52\n",
      "69/69 [==============================] - 11s 162ms/step - loss: 0.0019\n",
      "Epoch 52/52\n",
      "69/69 [==============================] - 11s 160ms/step - loss: 0.0020\n"
     ]
    },
    {
     "data": {
      "text/plain": [
       "<keras.src.callbacks.History at 0x27eb1a60640>"
      ]
     },
     "execution_count": 80,
     "metadata": {},
     "output_type": "execute_result"
    }
   ],
   "source": [
    "#compling the RNN\n",
    "regressor.compile(optimizer='adam',loss='mean_squared_error')\n",
    "#fitting the RNN to the training set\n",
    "regressor.fit(x_train,y_train,epochs=52,batch_size=32)"
   ]
  },
  {
   "cell_type": "code",
   "execution_count": 81,
   "id": "5ea487e0",
   "metadata": {},
   "outputs": [
    {
     "name": "stdout",
     "output_type": "stream",
     "text": [
      "INFO:tensorflow:Assets written to: keas_model_LSTM on TATA\\assets\n"
     ]
    },
    {
     "name": "stderr",
     "output_type": "stream",
     "text": [
      "INFO:tensorflow:Assets written to: keas_model_LSTM on TATA\\assets\n"
     ]
    }
   ],
   "source": [
    "regressor.save('keas_model_LSTM on TATA')"
   ]
  },
  {
   "cell_type": "code",
   "execution_count": 82,
   "id": "7288d4a9",
   "metadata": {},
   "outputs": [
    {
     "data": {
      "text/html": [
       "<div>\n",
       "<style scoped>\n",
       "    .dataframe tbody tr th:only-of-type {\n",
       "        vertical-align: middle;\n",
       "    }\n",
       "\n",
       "    .dataframe tbody tr th {\n",
       "        vertical-align: top;\n",
       "    }\n",
       "\n",
       "    .dataframe thead th {\n",
       "        text-align: right;\n",
       "    }\n",
       "</style>\n",
       "<table border=\"1\" class=\"dataframe\">\n",
       "  <thead>\n",
       "    <tr style=\"text-align: right;\">\n",
       "      <th></th>\n",
       "      <th>Close</th>\n",
       "    </tr>\n",
       "    <tr>\n",
       "      <th>Date</th>\n",
       "      <th></th>\n",
       "    </tr>\n",
       "  </thead>\n",
       "  <tbody>\n",
       "    <tr>\n",
       "      <th>2019-02-05</th>\n",
       "      <td>175.550003</td>\n",
       "    </tr>\n",
       "    <tr>\n",
       "      <th>2019-02-06</th>\n",
       "      <td>178.199997</td>\n",
       "    </tr>\n",
       "    <tr>\n",
       "      <th>2019-02-07</th>\n",
       "      <td>182.899994</td>\n",
       "    </tr>\n",
       "    <tr>\n",
       "      <th>2019-02-08</th>\n",
       "      <td>151.300003</td>\n",
       "    </tr>\n",
       "    <tr>\n",
       "      <th>2019-02-11</th>\n",
       "      <td>152.449997</td>\n",
       "    </tr>\n",
       "  </tbody>\n",
       "</table>\n",
       "</div>"
      ],
      "text/plain": [
       "                 Close\n",
       "Date                  \n",
       "2019-02-05  175.550003\n",
       "2019-02-06  178.199997\n",
       "2019-02-07  182.899994\n",
       "2019-02-08  151.300003\n",
       "2019-02-11  152.449997"
      ]
     },
     "execution_count": 82,
     "metadata": {},
     "output_type": "execute_result"
    }
   ],
   "source": [
    "df_testing.head()"
   ]
  },
  {
   "cell_type": "code",
   "execution_count": 83,
   "id": "5e385faa",
   "metadata": {},
   "outputs": [
    {
     "data": {
      "text/html": [
       "<div>\n",
       "<style scoped>\n",
       "    .dataframe tbody tr th:only-of-type {\n",
       "        vertical-align: middle;\n",
       "    }\n",
       "\n",
       "    .dataframe tbody tr th {\n",
       "        vertical-align: top;\n",
       "    }\n",
       "\n",
       "    .dataframe thead th {\n",
       "        text-align: right;\n",
       "    }\n",
       "</style>\n",
       "<table border=\"1\" class=\"dataframe\">\n",
       "  <thead>\n",
       "    <tr style=\"text-align: right;\">\n",
       "      <th></th>\n",
       "      <th>Close</th>\n",
       "    </tr>\n",
       "    <tr>\n",
       "      <th>Date</th>\n",
       "      <th></th>\n",
       "    </tr>\n",
       "  </thead>\n",
       "  <tbody>\n",
       "    <tr>\n",
       "      <th>2010-01-04</th>\n",
       "      <td>165.479996</td>\n",
       "    </tr>\n",
       "    <tr>\n",
       "      <th>2010-01-05</th>\n",
       "      <td>162.190002</td>\n",
       "    </tr>\n",
       "    <tr>\n",
       "      <th>2010-01-06</th>\n",
       "      <td>162.419998</td>\n",
       "    </tr>\n",
       "    <tr>\n",
       "      <th>2010-01-07</th>\n",
       "      <td>156.949997</td>\n",
       "    </tr>\n",
       "    <tr>\n",
       "      <th>2010-01-08</th>\n",
       "      <td>157.830002</td>\n",
       "    </tr>\n",
       "  </tbody>\n",
       "</table>\n",
       "</div>"
      ],
      "text/plain": [
       "                 Close\n",
       "Date                  \n",
       "2010-01-04  165.479996\n",
       "2010-01-05  162.190002\n",
       "2010-01-06  162.419998\n",
       "2010-01-07  156.949997\n",
       "2010-01-08  157.830002"
      ]
     },
     "execution_count": 83,
     "metadata": {},
     "output_type": "execute_result"
    }
   ],
   "source": [
    "df_training.head()"
   ]
  },
  {
   "cell_type": "code",
   "execution_count": 84,
   "id": "a4441e74",
   "metadata": {},
   "outputs": [
    {
     "data": {
      "text/html": [
       "<div>\n",
       "<style scoped>\n",
       "    .dataframe tbody tr th:only-of-type {\n",
       "        vertical-align: middle;\n",
       "    }\n",
       "\n",
       "    .dataframe tbody tr th {\n",
       "        vertical-align: top;\n",
       "    }\n",
       "\n",
       "    .dataframe thead th {\n",
       "        text-align: right;\n",
       "    }\n",
       "</style>\n",
       "<table border=\"1\" class=\"dataframe\">\n",
       "  <thead>\n",
       "    <tr style=\"text-align: right;\">\n",
       "      <th></th>\n",
       "      <th>Close</th>\n",
       "    </tr>\n",
       "    <tr>\n",
       "      <th>Date</th>\n",
       "      <th></th>\n",
       "    </tr>\n",
       "  </thead>\n",
       "  <tbody>\n",
       "    <tr>\n",
       "      <th>2019-01-29</th>\n",
       "      <td>173.449997</td>\n",
       "    </tr>\n",
       "    <tr>\n",
       "      <th>2019-01-30</th>\n",
       "      <td>174.300003</td>\n",
       "    </tr>\n",
       "    <tr>\n",
       "      <th>2019-01-31</th>\n",
       "      <td>181.250000</td>\n",
       "    </tr>\n",
       "    <tr>\n",
       "      <th>2019-02-01</th>\n",
       "      <td>181.750000</td>\n",
       "    </tr>\n",
       "    <tr>\n",
       "      <th>2019-02-04</th>\n",
       "      <td>180.300003</td>\n",
       "    </tr>\n",
       "  </tbody>\n",
       "</table>\n",
       "</div>"
      ],
      "text/plain": [
       "                 Close\n",
       "Date                  \n",
       "2019-01-29  173.449997\n",
       "2019-01-30  174.300003\n",
       "2019-01-31  181.250000\n",
       "2019-02-01  181.750000\n",
       "2019-02-04  180.300003"
      ]
     },
     "execution_count": 84,
     "metadata": {},
     "output_type": "execute_result"
    }
   ],
   "source": [
    "df_training.tail()"
   ]
  },
  {
   "cell_type": "code",
   "execution_count": 85,
   "id": "f3ec4d8e",
   "metadata": {},
   "outputs": [],
   "source": [
    "past_100_days=df_training.tail(100)"
   ]
  },
  {
   "cell_type": "code",
   "execution_count": 86,
   "id": "b9cf4d29",
   "metadata": {},
   "outputs": [
    {
     "data": {
      "text/html": [
       "<div>\n",
       "<style scoped>\n",
       "    .dataframe tbody tr th:only-of-type {\n",
       "        vertical-align: middle;\n",
       "    }\n",
       "\n",
       "    .dataframe tbody tr th {\n",
       "        vertical-align: top;\n",
       "    }\n",
       "\n",
       "    .dataframe thead th {\n",
       "        text-align: right;\n",
       "    }\n",
       "</style>\n",
       "<table border=\"1\" class=\"dataframe\">\n",
       "  <thead>\n",
       "    <tr style=\"text-align: right;\">\n",
       "      <th></th>\n",
       "      <th>Close</th>\n",
       "    </tr>\n",
       "  </thead>\n",
       "  <tbody>\n",
       "    <tr>\n",
       "      <th>0</th>\n",
       "      <td>277.500000</td>\n",
       "    </tr>\n",
       "    <tr>\n",
       "      <th>1</th>\n",
       "      <td>275.549988</td>\n",
       "    </tr>\n",
       "    <tr>\n",
       "      <th>2</th>\n",
       "      <td>267.200012</td>\n",
       "    </tr>\n",
       "    <tr>\n",
       "      <th>3</th>\n",
       "      <td>262.649994</td>\n",
       "    </tr>\n",
       "    <tr>\n",
       "      <th>4</th>\n",
       "      <td>266.450012</td>\n",
       "    </tr>\n",
       "    <tr>\n",
       "      <th>...</th>\n",
       "      <td>...</td>\n",
       "    </tr>\n",
       "    <tr>\n",
       "      <th>1056</th>\n",
       "      <td>384.850006</td>\n",
       "    </tr>\n",
       "    <tr>\n",
       "      <th>1057</th>\n",
       "      <td>394.149994</td>\n",
       "    </tr>\n",
       "    <tr>\n",
       "      <th>1058</th>\n",
       "      <td>391.399994</td>\n",
       "    </tr>\n",
       "    <tr>\n",
       "      <th>1059</th>\n",
       "      <td>385.899994</td>\n",
       "    </tr>\n",
       "    <tr>\n",
       "      <th>1060</th>\n",
       "      <td>388.100006</td>\n",
       "    </tr>\n",
       "  </tbody>\n",
       "</table>\n",
       "<p>1061 rows × 1 columns</p>\n",
       "</div>"
      ],
      "text/plain": [
       "           Close\n",
       "0     277.500000\n",
       "1     275.549988\n",
       "2     267.200012\n",
       "3     262.649994\n",
       "4     266.450012\n",
       "...          ...\n",
       "1056  384.850006\n",
       "1057  394.149994\n",
       "1058  391.399994\n",
       "1059  385.899994\n",
       "1060  388.100006\n",
       "\n",
       "[1061 rows x 1 columns]"
      ]
     },
     "execution_count": 86,
     "metadata": {},
     "output_type": "execute_result"
    }
   ],
   "source": [
    "final_df=past_100_days.append(df_testing,ignore_index=True)\n",
    "final_df"
   ]
  },
  {
   "cell_type": "code",
   "execution_count": 87,
   "id": "ea7b822e",
   "metadata": {},
   "outputs": [
    {
     "data": {
      "text/plain": [
       "array([[0.45634409],\n",
       "       [0.45215052],\n",
       "       [0.43419358],\n",
       "       ...,\n",
       "       [0.70129033],\n",
       "       [0.68946237],\n",
       "       [0.69419358]])"
      ]
     },
     "execution_count": 87,
     "metadata": {},
     "output_type": "execute_result"
    }
   ],
   "source": [
    "input_data=sc.fit_transform(final_df)\n",
    "input_data"
   ]
  },
  {
   "cell_type": "code",
   "execution_count": 88,
   "id": "c8ab908d",
   "metadata": {},
   "outputs": [
    {
     "data": {
      "text/plain": [
       "(1061, 1)"
      ]
     },
     "execution_count": 88,
     "metadata": {},
     "output_type": "execute_result"
    }
   ],
   "source": [
    "input_data.shape"
   ]
  },
  {
   "cell_type": "code",
   "execution_count": 89,
   "id": "d82dc0c9",
   "metadata": {},
   "outputs": [],
   "source": [
    "x_test=[]\n",
    "y_test=[]\n",
    "for i in range(100,input_data.shape[0]):\n",
    "    x_test.append(input_data[i-60:i])\n",
    "    y_test.append(input_data[i,0])"
   ]
  },
  {
   "cell_type": "code",
   "execution_count": 90,
   "id": "a0429ada",
   "metadata": {},
   "outputs": [],
   "source": [
    "x_test,y_test=np.array(x_test),np.array(y_test)"
   ]
  },
  {
   "cell_type": "code",
   "execution_count": 91,
   "id": "81663255",
   "metadata": {},
   "outputs": [
    {
     "name": "stdout",
     "output_type": "stream",
     "text": [
      "(961, 60, 1)\n",
      "(961,)\n"
     ]
    }
   ],
   "source": [
    "print(x_test.shape)\n",
    "print(y_test.shape)"
   ]
  },
  {
   "cell_type": "code",
   "execution_count": 92,
   "id": "1369320f",
   "metadata": {},
   "outputs": [
    {
     "name": "stdout",
     "output_type": "stream",
     "text": [
      "31/31 [==============================] - 5s 53ms/step\n"
     ]
    }
   ],
   "source": [
    "y_predicted=regressor.predict(x_test)"
   ]
  },
  {
   "cell_type": "code",
   "execution_count": 93,
   "id": "014c853a",
   "metadata": {},
   "outputs": [
    {
     "data": {
      "text/plain": [
       "(961, 1)"
      ]
     },
     "execution_count": 93,
     "metadata": {},
     "output_type": "execute_result"
    }
   ],
   "source": [
    "y_predicted.shape"
   ]
  },
  {
   "cell_type": "code",
   "execution_count": 94,
   "id": "c12411ea",
   "metadata": {},
   "outputs": [
    {
     "data": {
      "text/plain": [
       "(961,)"
      ]
     },
     "execution_count": 94,
     "metadata": {},
     "output_type": "execute_result"
    }
   ],
   "source": [
    "y_test.shape"
   ]
  },
  {
   "cell_type": "code",
   "execution_count": 95,
   "id": "cd6bd29b",
   "metadata": {},
   "outputs": [],
   "source": [
    "y_predicted_original_scale =sc.inverse_transform(y_predicted)\n",
    "y_test_original_scale = sc.inverse_transform(y_test.reshape(-1, 1))"
   ]
  },
  {
   "cell_type": "code",
   "execution_count": 96,
   "id": "78d7b32f",
   "metadata": {},
   "outputs": [
    {
     "data": {
      "image/png": "[encoded data removed]",
      "text/plain": [
       "<Figure size 864x432 with 1 Axes>"
      ]
     },
     "metadata": {
      "needs_background": "light"
     },
     "output_type": "display_data"
    }
   ],
   "source": [
    "plt.figure(figsize=(12,6))\n",
    "plt.plot(y_test,'b',label='original price')\n",
    "plt.plot(y_predicted,'r',label='predicted price')\n",
    "plt.xlabel('Time')\n",
    "plt.ylabel('Price')\n",
    "plt.legend()\n",
    "plt.show()"
   ]
  },
  {
   "cell_type": "code",
   "execution_count": null,
   "id": "952d1531",
   "metadata": {},
   "outputs": [],
   "source": []
  }
 ],
 "metadata": {
  "kernelspec": {
   "display_name": "Python 3 (ipykernel)",
   "language": "python",
   "name": "python3"
  },
  "language_info": {
   "codemirror_mode": {
    "name": "ipython",
    "version": 3
   },
   "file_extension": ".py",
   "mimetype": "text/x-python",
   "name": "python",
   "nbconvert_exporter": "python",
   "pygments_lexer": "ipython3",
   "version": "3.9.7"
  }
 },
 "nbformat": 4,
 "nbformat_minor": 5
}
